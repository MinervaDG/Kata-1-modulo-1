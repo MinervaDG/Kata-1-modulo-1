{
 "cells": [
  {
   "cell_type": "code",
   "execution_count": 11,
   "metadata": {},
   "outputs": [
    {
     "name": "stdout",
     "output_type": "stream",
     "text": [
      "Bienvenido esta es la Kata 1\n",
      "El día de hoy es: 2022-02-10\n",
      "Saludos: Minerva\n",
      "Calculadora\n",
      "El día de hoy realizaremos una calculadora\n",
      "Primer número: 2\n",
      "Segundo número: 3\n",
      "La suma de estos dos es: \n",
      "5\n",
      "lo siguiente ya es una declaracion de variables con un valor predeterminado \n",
      "Es el resultado de (1+2)*2\n",
      "6\n",
      "Se declararon variables\n",
      "¿Cuantos planetas existen en el sstema solar?\n",
      "8\n",
      "¿Cuál es la distancia a alfa centuri en años luz?\n",
      "4.367\n",
      "De qué tipo es la variable de alfa centuri\n",
      "¿Cuál es el transbordador que aterrizo en la luna?\n",
      "Apollo 11\n",
      "¿Entones logro despegar el Apolo 11? (Si sale true es que logro despegar)\n",
      "True\n"
     ]
    }
   ],
   "source": [
    "from datetime import date\n",
    "print(\"Bienvenido esta es la Kata 1\")\n",
    "#si lo pongo sin el str me marcara un error porquue necesito hacer una cadena de caracteres de tipo string\n",
    "print(\"El día de hoy es: \" + str(date.today()))\n",
    "nombre = input(\"Introduzca su nombre \")\n",
    "print(\"Saludos: \" + nombre)\n",
    "print(\"Calculadora\")\n",
    "print(\"El día de hoy realizaremos una calculadora\")\n",
    "num1=input(\"Dame un numero\")\n",
    "print(\"Primer número: \" +num1)\n",
    "num2=input(\"Dame otro número\")\n",
    "print(\"Segundo número: \" +num2)\n",
    "print(\"La suma de estos dos es: \")\n",
    "print(int(num1)+ int(num2))\n",
    "print(\"lo siguiente ya es una declaracion de variables con un valor predeterminado \")\n",
    "sum = 1 + 2 # 3\n",
    "product = sum * 2\n",
    "print(\"Es el resultado de (1+2)*2\")\n",
    "print(product)\n",
    "planetas_en_el_sistema_solar = 8 # int, plutón era considerado un planeta pero ya es muy pequeño\n",
    "distancia_a_alfa_centauri = 4.367 # float, años luz\n",
    "puede_despegar = True\n",
    "transbordador_que_aterrizo_en_la_luna = \"Apollo 11\" #string\n",
    "distancia_a_alfa_centauri = 4.367 # Parece un decimal flotante\n",
    "# Declaramos la variable\n",
    "distancia_a_alfa_centauri = 4.367\n",
    "# Descubrimos su tipo de dato\n",
    "#type(distancia_a_alfa_centauri)\n",
    "print(\"Se declararon variables\")\n",
    "print(\"¿Cuantos planetas existen en el sstema solar?\")\n",
    "print(planetas_en_el_sistema_solar)\n",
    "print(\"¿Cuál es la distancia a alfa centuri en años luz?\") \n",
    "print(distancia_a_alfa_centauri)\n",
    "print(\"De qué tipo es la variable de alfa centuri\")\n",
    "type(distancia_a_alfa_centauri)\n",
    "print(\"¿Cuál es el transbordador que aterrizo en la luna?\")\n",
    "print(transbordador_que_aterrizo_en_la_luna)\n",
    "print(\"¿Entones logro despegar el Apolo 11? (Si sale true es que logro despegar)\")\n",
    "print(puede_despegar)\n",
    "\n",
    "\n"
   ]
  }
 ],
 "metadata": {
  "interpreter": {
   "hash": "6d789933423f2026dd762f632057f7ae59cc19f3153fdbf8a64e7992d654ea7e"
  },
  "kernelspec": {
   "display_name": "Python 3.10.2 64-bit",
   "language": "python",
   "name": "python3"
  },
  "language_info": {
   "codemirror_mode": {
    "name": "ipython",
    "version": 3
   },
   "file_extension": ".py",
   "mimetype": "text/x-python",
   "name": "python",
   "nbconvert_exporter": "python",
   "pygments_lexer": "ipython3",
   "version": "3.10.2"
  },
  "orig_nbformat": 4
 },
 "nbformat": 4,
 "nbformat_minor": 2
}
